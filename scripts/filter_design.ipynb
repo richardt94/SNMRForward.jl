{
 "cells": [
  {
   "cell_type": "code",
   "execution_count": 2,
   "metadata": {},
   "outputs": [],
   "source": [
    "from empymod.scripts import fdesign"
   ]
  },
  {
   "cell_type": "code",
   "execution_count": 10,
   "metadata": {},
   "outputs": [],
   "source": [
    "from scipy.special import ellipk, ellipe\n",
    "from scipy import pi"
   ]
  },
  {
   "cell_type": "code",
   "execution_count": 11,
   "metadata": {},
   "outputs": [
    {
     "data": {
      "text/plain": [
       "inf"
      ]
     },
     "execution_count": 11,
     "metadata": {},
     "output_type": "execute_result"
    }
   ],
   "source": [
    "ellipk(1)"
   ]
  },
  {
   "cell_type": "code",
   "execution_count": 12,
   "metadata": {},
   "outputs": [
    {
     "data": {
      "text/plain": [
       "1.0"
      ]
     },
     "execution_count": 12,
     "metadata": {},
     "output_type": "execute_result"
    }
   ],
   "source": [
    "ellipe(1)"
   ]
  },
  {
   "cell_type": "code",
   "execution_count": 23,
   "metadata": {},
   "outputs": [],
   "source": [
    "import numpy as np\n",
    "\n",
    "@np.vectorize\n",
    "def analytic_hz(r):\n",
    "    ksq = 1 - ((r-1)/(r+1))**2\n",
    "    return ((r-1)*ellipk(ksq) - (r+1)*ellipe(ksq))/(2*pi*(r+1)*(r-1))\n"
   ]
  },
  {
   "cell_type": "code",
   "execution_count": 24,
   "metadata": {},
   "outputs": [],
   "source": [
    "import matplotlib.pyplot as plt"
   ]
  },
  {
   "cell_type": "code",
   "execution_count": 25,
   "metadata": {},
   "outputs": [],
   "source": [
    "import numpy as np\n",
    "rgrid = np.arange(0,2.0,0.02)"
   ]
  },
  {
   "cell_type": "code",
   "execution_count": 26,
   "metadata": {},
   "outputs": [
    {
     "name": "stderr",
     "output_type": "stream",
     "text": [
      "/tmp/ipykernel_21972/3797862185.py:6: RuntimeWarning: invalid value encountered in double_scalars\n",
      "  return ((r-1)*ellipk(ksq) - (r+1)*ellipe(ksq))/(2*pi*(r+1)*(r-1))\n"
     ]
    },
    {
     "data": {
      "text/plain": [
       "[<matplotlib.lines.Line2D at 0x7f8d7459f2e0>]"
      ]
     },
     "execution_count": 26,
     "metadata": {},
     "output_type": "execute_result"
    },
    {
     "data": {
      "image/png": "[encoded data removed]",
      "text/plain": [
       "<Figure size 432x288 with 1 Axes>"
      ]
     },
     "metadata": {
      "needs_background": "light"
     },
     "output_type": "display_data"
    }
   ],
   "source": [
    "plt.plot(rgrid, analytic_hz(rgrid))"
   ]
  },
  {
   "cell_type": "code",
   "execution_count": 27,
   "metadata": {},
   "outputs": [
    {
     "name": "stderr",
     "output_type": "stream",
     "text": [
      "/tmp/ipykernel_21972/3797862185.py:6: RuntimeWarning: invalid value encountered in double_scalars\n",
      "  return ((r-1)*ellipk(ksq) - (r+1)*ellipe(ksq))/(2*pi*(r+1)*(r-1))\n"
     ]
    },
    {
     "data": {
      "text/plain": [
       "array([ 0.5       ,  0.50015006,  0.5006009 ,  0.50135457,  0.50241449,\n",
       "        0.5037855 ,  0.50547394,  0.50748768,  0.50983628,  0.51253106,\n",
       "        0.51558527,  0.51901425,  0.52283565,  0.52706967,  0.53173939,\n",
       "        0.53687106,  0.54249457,  0.54864392,  0.55535781,  0.56268038,\n",
       "        0.57066203,  0.57936045,  0.58884191,  0.59918277,  0.61047135,\n",
       "        0.62281031,  0.63631952,  0.65113981,  0.66743755,  0.68541076,\n",
       "        0.70529682,  0.72738275,  0.75201886,  0.77963714,  0.81077653,\n",
       "        0.84611832,  0.88653645,  0.93317111,  0.9875388 ,  1.05170213,\n",
       "        1.12854113,  1.22220438,  1.33889732,  1.48834318,  1.6866995 ,\n",
       "        1.96296187,  2.37494138,  3.05709828,  4.41146022,  8.44077647,\n",
       "               nan, -7.48703445, -3.56762246, -2.27719139, -1.64006094,\n",
       "       -1.26269702, -1.01442842, -0.83946879, -0.7100335 , -0.61074769,\n",
       "       -0.53242366, -0.46923876, -0.41732756, -0.37402549, -0.33743764,\n",
       "       -0.30618065, -0.27922174, -0.25577482, -0.23523142, -0.21711348,\n",
       "       -0.20104043, -0.18670576, -0.17385997, -0.16229799, -0.15184986,\n",
       "       -0.14237356, -0.13374958, -0.12587667, -0.11866851, -0.11205115,\n",
       "       -0.10596081, -0.10034229, -0.09514756, -0.09033468, -0.08586683,\n",
       "       -0.08171162, -0.07784042, -0.07422786, -0.07085135, -0.06769078,\n",
       "       -0.06472815, -0.0619473 , -0.05933372, -0.05687433, -0.05455732,\n",
       "       -0.05237198, -0.0503086 , -0.04835837, -0.04651325, -0.04476591])"
      ]
     },
     "execution_count": 27,
     "metadata": {},
     "output_type": "execute_result"
    }
   ],
   "source": [
    "analytic_hz(rgrid)"
   ]
  },
  {
   "cell_type": "code",
   "execution_count": 48,
   "metadata": {},
   "outputs": [],
   "source": [
    "from scipy.special import jv\n",
    "\n",
    "def j0_loop_pair():\n",
    "    def lhs(l):\n",
    "        return l/2*jv(1,l)\n",
    "\n",
    "    def rhs(r):\n",
    "        ksq = 1 - ((r-1)/(r+1))**2\n",
    "        return ((r-1)*ellipk(ksq) - (r+1)*ellipe(ksq))/(2*pi*(r+1)*(r-1))\n",
    "\n",
    "    return fdesign.Ghosh('j0', lhs, rhs)\n",
    "        "
   ]
  },
  {
   "cell_type": "code",
   "execution_count": 49,
   "metadata": {},
   "outputs": [
    {
     "data": {
      "text/plain": [
       "<empymod.scripts.fdesign.Ghosh at 0x7f8d7242bca0>"
      ]
     },
     "execution_count": 49,
     "metadata": {},
     "output_type": "execute_result"
    }
   ],
   "source": [
    "j0_loop_pair()"
   ]
  },
  {
   "cell_type": "code",
   "execution_count": 50,
   "metadata": {},
   "outputs": [],
   "source": [
    "inp = {\n",
    "    'r': np.arange(0.01,2.0,0.02),\n",
    "    'n': 201,\n",
    "    'fI': j0_loop_pair(),\n",
    "    'full_output' : True\n",
    "}"
   ]
  },
  {
   "cell_type": "code",
   "execution_count": 51,
   "metadata": {},
   "outputs": [
    {
     "name": "stdout",
     "output_type": "stream",
     "text": [
      "* WARNING :: `matplotlib` is not installed, no figures shown.\n",
      "   brute fct calls : 99/100\n",
      "   Filter length   : 201\n",
      "   Best filter\n",
      "   > Min field     : inf\n",
      "   > Spacing       : 0.01\n",
      "   > Shift         : -4\n",
      "   > Base min/max  : 6.737947e-03 / 4.978707e-02\n",
      "\n",
      ":: empymod END; runtime = 0:00:05.360932 :: \n",
      "\n"
     ]
    }
   ],
   "source": [
    "filt1, out1 = fdesign.design(spacing=(0.01,0.2,10), shift=(-4,0,10), save=False, **inp)"
   ]
  },
  {
   "cell_type": "code",
   "execution_count": null,
   "metadata": {},
   "outputs": [],
   "source": []
  }
 ],
 "metadata": {
  "interpreter": {
   "hash": "76df1f9de7254b5a6083c2e2b67b01aec2d1fdfe75c7af54edc44be1bca575de"
  },
  "kernelspec": {
   "display_name": "Python 3.9.7 64-bit ('empymod': conda)",
   "language": "python",
   "name": "python3"
  },
  "language_info": {
   "codemirror_mode": {
    "name": "ipython",
    "version": 3
   },
   "file_extension": ".py",
   "mimetype": "text/x-python",
   "name": "python",
   "nbconvert_exporter": "python",
   "pygments_lexer": "ipython3",
   "version": "3.9.7"
  },
  "orig_nbformat": 4
 },
 "nbformat": 4,
 "nbformat_minor": 2
}
